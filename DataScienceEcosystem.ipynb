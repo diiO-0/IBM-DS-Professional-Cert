{
 "cells": [
  {
   "cell_type": "markdown",
   "metadata": {},
   "source": [
    "<center>\n",
    "    <img src=\"https://cf-courses-data.s3.us.cloud-object-storage.appdomain.cloud/IBMDeveloperSkillsNetwork-DS0105EN-SkillsNetwork/labs/Module2/images/SN_web_lightmode.png\" width=\"300\" alt=\"cognitiveclass.ai logo\">\n",
    "</center>\n"
   ]
  },
  {
   "cell_type": "markdown",
   "metadata": {},
   "source": [
    "#### Add your code below following the instructions given in the course\n"
   ]
  },
  {
   "cell_type": "markdown",
   "metadata": {},
   "source": [
    "'''\n",
    "Exercise 1: \n",
    "Create a Jupyter Notebook\n",
    "Create a new Jupyter notebook called DataScienceEcosystem.ipynb\n",
    "'''"
   ]
  },
  {
   "cell_type": "markdown",
   "metadata": {},
   "source": [
    "'''\n",
    "Exercise 2: \n",
    "Create markdown cell with title of the notebook\n",
    "Create a markdown cell with the title Data Science Tools and Ecosystem using H1 style heading.\n",
    "'''"
   ]
  },
  {
   "cell_type": "markdown",
   "metadata": {
    "tags": []
   },
   "source": [
    "# **Data Science Ecosystem**"
   ]
  },
  {
   "cell_type": "markdown",
   "metadata": {},
   "source": [
    "'''\n",
    "Exercise 3:\n",
    "Create a markdown cell for an introduction\n",
    "Write an introductory sentence about the notebook such as the follows:\n",
    "In this notebook, Data Science Tools and Ecosystem are summarized.\n",
    "'''"
   ]
  },
  {
   "cell_type": "markdown",
   "metadata": {},
   "source": [
    "## In this notebook, Data Science Tools and Ecosystem are summarized."
   ]
  },
  {
   "cell_type": "markdown",
   "metadata": {},
   "source": [
    "'''\n",
    "Exercise 4:\n",
    "Create a markdown cell to list data science languages\n",
    "Start the cell with an overview line such as:\n",
    "Some of the popular languages that Data Scientists use are:\n",
    "Then create an ordered list (i.e. numbered) listing 3 (or more) commonly used languages for data science.\n",
    "'''"
   ]
  },
  {
   "cell_type": "markdown",
   "metadata": {
    "tags": []
   },
   "source": [
    "## **I Data Science Languages**\n",
    "### Some of the popular languages that Data Scientists use are:\n",
    "1. Python\n",
    "2. R\n",
    "3. SQL\n",
    "4. Scala\n",
    "5. Julia\n",
    "6. C++"
   ]
  },
  {
   "cell_type": "markdown",
   "metadata": {},
   "source": [
    "'''\n",
    "Exercise 5:\n",
    "Create a markdown cell to list data science libraries\n",
    "Add an overview line to the cell like:\n",
    "Some of the commonly used libraries used by Data Scientists include:\n",
    "Below this line add an ordered list listing 3 (or more) commonly used libraries in data science.\n",
    "'''"
   ]
  },
  {
   "cell_type": "markdown",
   "metadata": {
    "tags": []
   },
   "source": [
    "## **II Data Science Libraries**\n",
    "### Some of the commonly used libraries used by Data Scientists include:\n",
    "1. Pandas\n",
    "2. NumPy\n",
    "3. Matplotlib\n",
    "4. Seaborn\n",
    "5. SciPy\n",
    "6. Scikit"
   ]
  },
  {
   "cell_type": "markdown",
   "metadata": {},
   "source": [
    "'''\n",
    "Exercise 6:\n",
    "Create a markdown cell with a table of Data Science tools\n",
    "Create a single column table in this cell with the first row containing the header Data Science Tools. The\n",
    "subsequent three rows in the table should indicate three development environment open source tools used in data\n",
    "science.\n",
    "'''"
   ]
  },
  {
   "cell_type": "markdown",
   "metadata": {},
   "source": [
    "## **III Data Science Tools**\n",
    "### Some of the open source development tools used are:\n",
    "| Data Science Tools |\n",
    "|--------------------|\n",
    "| Jupyter Lab |\n",
    "| Jupyter Notebook |\n",
    "| RStudio |\n",
    "| Apache Spark |\n",
    "| Apache Flink |\n"
   ]
  },
  {
   "cell_type": "markdown",
   "metadata": {},
   "source": [
    "'''\n",
    "Exercise 7:\n",
    "Create a markdown cell introducing arithmetic expression examples\n",
    "Add a line in this cell with H3 style heading with text like:\n",
    "Below are a few examples of evaluating arithmetic expressions in Python.\n",
    "'''"
   ]
  },
  {
   "cell_type": "markdown",
   "metadata": {},
   "source": [
    "## **IV Arithmetic**\n",
    "### Below are a few examples of evaluating arithmetic expressions in Python.\n",
    "\n",
    "15 + 20\n",
    "\n",
    "(3*4)+5\n"
   ]
  },
  {
   "cell_type": "markdown",
   "metadata": {},
   "source": [
    "'''\n",
    "Exercise 8:\n",
    "Create a code cell to multiply and add numbers\n",
    "In this code cell evaluate the expression (3*4)+5.\n",
    "Insert a comment line before the expression to explain the operation e.g. This a simple arithmetic expression\n",
    "to multiply then add integers.\n",
    "Then execute the cell to ensure the expression returns the expected output of 17.\n",
    "'''"
   ]
  },
  {
   "cell_type": "code",
   "execution_count": 2,
   "metadata": {
    "tags": []
   },
   "outputs": [
    {
     "data": {
      "text/plain": [
       "17"
      ]
     },
     "execution_count": 2,
     "metadata": {},
     "output_type": "execute_result"
    }
   ],
   "source": [
    "# This a simple arithmetic expression to mutiply then add integers\n",
    "(3 * 4) + 5"
   ]
  },
  {
   "cell_type": "markdown",
   "metadata": {},
   "source": [
    "'''\n",
    "Exercise 9:\n",
    "Create a code cell to convert minutes to hours\n",
    "In this code cell write an expression that converts 200 minutes into hours.\n",
    "Insert a comment line before the expression to explain the operation e.g. This will convert 200 minutes to\n",
    "hours by diving by 60.\n",
    "Run the cell to evaluate the expression.\n",
    "'''"
   ]
  },
  {
   "cell_type": "code",
   "execution_count": 2,
   "metadata": {
    "tags": []
   },
   "outputs": [
    {
     "data": {
      "text/plain": [
       "3.3333333333333335"
      ]
     },
     "execution_count": 2,
     "metadata": {},
     "output_type": "execute_result"
    }
   ],
   "source": [
    "# This will convert 200 minutes to hours by diving by 60.\n",
    "200 / 60"
   ]
  },
  {
   "cell_type": "markdown",
   "metadata": {},
   "source": [
    "'''\n",
    "Exercise 10: \n",
    "Insert a markdown cell to list Objectives\n",
    "Below the introduction cell created in Exercise 3, insert a new markdown cell to list the objectives that this\n",
    "notebook covered (i.e. some of the key takeaways from the course). In this new cell start with an introductory\n",
    "line titled: Objectives: in bold font. Then using an unordered list (bullets) indicate 3 to 5 items covered in this\n",
    "notebook, such as List popular languages for Data Science.\n",
    "'''"
   ]
  },
  {
   "cell_type": "markdown",
   "metadata": {
    "tags": []
   },
   "source": [
    "## **V Objectives**\n",
    "- Languages used by Data Scientists like Python, R and SQL\n",
    "- Libraries commonly used include Pandas and Numpy etc.\n",
    "- Jupyter Lab and RStudios are popular development tools\n",
    "- Markdown displaying arithmetic vs code cell computing arithmetic \n"
   ]
  },
  {
   "cell_type": "markdown",
   "metadata": {},
   "source": [
    "'''\n",
    "Exercise 11:\n",
    "Create a markdown cell to indicate the Author's name\n",
    "In this markdown cell markdown cell include the following text Author in H2 style heading. Include your name\n",
    "as regular text below the word Author.\n",
    "'''"
   ]
  },
  {
   "cell_type": "markdown",
   "metadata": {},
   "source": [
    "## **Author**\n",
    "Dishita Bhogal"
   ]
  },
  {
   "cell_type": "code",
   "execution_count": null,
   "metadata": {},
   "outputs": [],
   "source": []
  }
 ],
 "metadata": {
  "kernelspec": {
   "display_name": "Python",
   "language": "python",
   "name": "conda-env-python-py"
  },
  "language_info": {
   "codemirror_mode": {
    "name": "ipython",
    "version": 3
   },
   "file_extension": ".py",
   "mimetype": "text/x-python",
   "name": "python",
   "nbconvert_exporter": "python",
   "pygments_lexer": "ipython3",
   "version": "3.7.12"
  }
 },
 "nbformat": 4,
 "nbformat_minor": 4
}
